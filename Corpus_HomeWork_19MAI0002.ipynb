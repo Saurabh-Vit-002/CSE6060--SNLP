{
 "cells": [
  {
   "cell_type": "markdown",
   "metadata": {},
   "source": [
    "# Task\n",
    "## Extract a text from corpus\n",
    "## tokenize the words\n",
    "## pos-tagging\n",
    "## determine the stems in those words"
   ]
  },
  {
   "cell_type": "code",
   "execution_count": 1,
   "metadata": {},
   "outputs": [
    {
     "data": {
      "text/plain": [
       "['1789-Washington.txt',\n",
       " '1793-Washington.txt',\n",
       " '1797-Adams.txt',\n",
       " '1801-Jefferson.txt',\n",
       " '1805-Jefferson.txt',\n",
       " '1809-Madison.txt',\n",
       " '1813-Madison.txt',\n",
       " '1817-Monroe.txt',\n",
       " '1821-Monroe.txt',\n",
       " '1825-Adams.txt',\n",
       " '1829-Jackson.txt',\n",
       " '1833-Jackson.txt',\n",
       " '1837-VanBuren.txt',\n",
       " '1841-Harrison.txt',\n",
       " '1845-Polk.txt',\n",
       " '1849-Taylor.txt',\n",
       " '1853-Pierce.txt',\n",
       " '1857-Buchanan.txt',\n",
       " '1861-Lincoln.txt',\n",
       " '1865-Lincoln.txt',\n",
       " '1869-Grant.txt',\n",
       " '1873-Grant.txt',\n",
       " '1877-Hayes.txt',\n",
       " '1881-Garfield.txt',\n",
       " '1885-Cleveland.txt',\n",
       " '1889-Harrison.txt',\n",
       " '1893-Cleveland.txt',\n",
       " '1897-McKinley.txt',\n",
       " '1901-McKinley.txt',\n",
       " '1905-Roosevelt.txt',\n",
       " '1909-Taft.txt',\n",
       " '1913-Wilson.txt',\n",
       " '1917-Wilson.txt',\n",
       " '1921-Harding.txt',\n",
       " '1925-Coolidge.txt',\n",
       " '1929-Hoover.txt',\n",
       " '1933-Roosevelt.txt',\n",
       " '1937-Roosevelt.txt',\n",
       " '1941-Roosevelt.txt',\n",
       " '1945-Roosevelt.txt',\n",
       " '1949-Truman.txt',\n",
       " '1953-Eisenhower.txt',\n",
       " '1957-Eisenhower.txt',\n",
       " '1961-Kennedy.txt',\n",
       " '1965-Johnson.txt',\n",
       " '1969-Nixon.txt',\n",
       " '1973-Nixon.txt',\n",
       " '1977-Carter.txt',\n",
       " '1981-Reagan.txt',\n",
       " '1985-Reagan.txt',\n",
       " '1989-Bush.txt',\n",
       " '1993-Clinton.txt',\n",
       " '1997-Clinton.txt',\n",
       " '2001-Bush.txt',\n",
       " '2005-Bush.txt',\n",
       " '2009-Obama.txt',\n",
       " '2013-Obama.txt',\n",
       " '2017-Trump.txt']"
      ]
     },
     "execution_count": 1,
     "metadata": {},
     "output_type": "execute_result"
    }
   ],
   "source": [
    "from nltk.corpus import inaugural\n",
    "inaugural.fileids()"
   ]
  },
  {
   "cell_type": "code",
   "execution_count": 2,
   "metadata": {},
   "outputs": [
    {
     "data": {
      "text/plain": [
       "\"['Vice', 'President', 'Johnson', ',', 'Mr', '.', 'Speaker', ',', 'Mr', '.', 'Chief', 'Justice', ',', 'President', 'Eisenhower', ',', 'Vice', 'President', 'Nixon', ',', 'President', 'Truman', ',', 'reverend', 'clergy', ',', 'fellow', 'citizens', ',', 'we', 'observe', 'today', 'not', 'a', 'victory', 'of', 'party', ',', 'but', 'a', 'celebration', 'of', 'freedom', '--', 'symbolizing', 'an', 'end', ',', 'as', 'well', 'as', 'a', 'beginning', '--', 'signifying', 'renewal', ',', 'as', 'well', 'as', 'change', '.', 'For', 'I', 'have', 'sworn', 'I', 'before', 'you', 'and', 'Almighty', 'God', 'the', 'same', 'solemn', 'oath', 'our', 'forebears', 'l', 'prescribed', 'nearly', 'a', 'century', 'and', 'three', 'quarters', 'ago', '.', 'The', 'world', 'is', 'very', 'different', 'now', '.', 'For', 'man', 'holds', 'in', 'his']\""
      ]
     },
     "execution_count": 2,
     "metadata": {},
     "output_type": "execute_result"
    }
   ],
   "source": [
    "txt1 = str(inaugural.words(fileids='1961-Kennedy.txt')[:100])\n",
    "txt1"
   ]
  },
  {
   "cell_type": "code",
   "execution_count": 3,
   "metadata": {},
   "outputs": [
    {
     "name": "stdout",
     "output_type": "stream",
     "text": [
      "['[', \"'Vice\", \"'\", ',', \"'President\", \"'\", ',', \"'Johnson\", \"'\", ',', \"'\", ',', \"'\", ',', \"'Mr\", \"'\", ',', \"'\", '.', \"'\", ',', \"'Speaker\", \"'\", ',', \"'\", ',', \"'\", ',', \"'Mr\", \"'\", ',', \"'\", '.', \"'\", ',', \"'Chief\", \"'\", ',', \"'Justice\", \"'\", ',', \"'\", ',', \"'\", ',', \"'President\", \"'\", ',', \"'Eisenhower\", \"'\", ',', \"'\", ',', \"'\", ',', \"'Vice\", \"'\", ',', \"'President\", \"'\", ',', \"'Nixon\", \"'\", ',', \"'\", ',', \"'\", ',', \"'President\", \"'\", ',', \"'Truman\", \"'\", ',', \"'\", ',', \"'\", ',', \"'reverend\", \"'\", ',', \"'clergy\", \"'\", ',', \"'\", ',', \"'\", ',', \"'fellow\", \"'\", ',', \"'citizens\", \"'\", ',', \"'\", ',', \"'\", ',', \"'we\", \"'\", ',', \"'observe\", \"'\", ',', \"'today\", \"'\", ',', \"'not\", \"'\", ',', \"'\", 'a', \"'\", ',', \"'victory\", \"'\", ',', \"'of\", \"'\", ',', \"'party\", \"'\", ',', \"'\", ',', \"'\", ',', \"'but\", \"'\", ',', \"'\", 'a', \"'\", ',', \"'celebration\", \"'\", ',', \"'of\", \"'\", ',', \"'freedom\", \"'\", ',', \"'\", '--', \"'\", ',', \"'symbolizing\", \"'\", ',', \"'an\", \"'\", ',', \"'end\", \"'\", ',', \"'\", ',', \"'\", ',', \"'as\", \"'\", ',', \"'well\", \"'\", ',', \"'as\", \"'\", ',', \"'\", 'a', \"'\", ',', \"'beginning\", \"'\", ',', \"'\", '--', \"'\", ',', \"'signifying\", \"'\", ',', \"'renewal\", \"'\", ',', \"'\", ',', \"'\", ',', \"'as\", \"'\", ',', \"'well\", \"'\", ',', \"'as\", \"'\", ',', \"'change\", \"'\", ',', \"'\", '.', \"'\", ',', \"'For\", \"'\", ',', \"'\", 'I', \"'\", ',', \"'have\", \"'\", ',', \"'sworn\", \"'\", ',', \"'\", 'I', \"'\", ',', \"'before\", \"'\", ',', \"'you\", \"'\", ',', \"'and\", \"'\", ',', \"'Almighty\", \"'\", ',', \"'God\", \"'\", ',', \"'the\", \"'\", ',', \"'same\", \"'\", ',', \"'solemn\", \"'\", ',', \"'oath\", \"'\", ',', \"'our\", \"'\", ',', \"'forebears\", \"'\", ',', \"'\", 'l', \"'\", ',', \"'prescribed\", \"'\", ',', \"'nearly\", \"'\", ',', \"'\", 'a', \"'\", ',', \"'century\", \"'\", ',', \"'and\", \"'\", ',', \"'three\", \"'\", ',', \"'quarters\", \"'\", ',', \"'ago\", \"'\", ',', \"'\", '.', \"'\", ',', \"'The\", \"'\", ',', \"'world\", \"'\", ',', \"'is\", \"'\", ',', \"'very\", \"'\", ',', \"'different\", \"'\", ',', \"'now\", \"'\", ',', \"'\", '.', \"'\", ',', \"'For\", \"'\", ',', \"'man\", \"'\", ',', \"'holds\", \"'\", ',', \"'in\", \"'\", ',', \"'his\", \"'\", ']']\n"
     ]
    }
   ],
   "source": [
    "from nltk.tokenize import sent_tokenize, word_tokenize\n",
    "print(word_tokenize(txt1))"
   ]
  },
  {
   "cell_type": "code",
   "execution_count": 4,
   "metadata": {},
   "outputs": [
    {
     "name": "stdout",
     "output_type": "stream",
     "text": [
      "[\"['Vice', 'President', 'Johnson', ',', 'Mr', '.\", \"', 'Speaker', ',', 'Mr', '.\", \"', 'Chief', 'Justice', ',', 'President', 'Eisenhower', ',', 'Vice', 'President', 'Nixon', ',', 'President', 'Truman', ',', 'reverend', 'clergy', ',', 'fellow', 'citizens', ',', 'we', 'observe', 'today', 'not', 'a', 'victory', 'of', 'party', ',', 'but', 'a', 'celebration', 'of', 'freedom', '--', 'symbolizing', 'an', 'end', ',', 'as', 'well', 'as', 'a', 'beginning', '--', 'signifying', 'renewal', ',', 'as', 'well', 'as', 'change', '.\", \"', 'For', 'I', 'have', 'sworn', 'I', 'before', 'you', 'and', 'Almighty', 'God', 'the', 'same', 'solemn', 'oath', 'our', 'forebears', 'l', 'prescribed', 'nearly', 'a', 'century', 'and', 'three', 'quarters', 'ago', '.\", \"', 'The', 'world', 'is', 'very', 'different', 'now', '.\", \"', 'For', 'man', 'holds', 'in', 'his']\"]\n"
     ]
    }
   ],
   "source": [
    "print(sent_tokenize(txt1))"
   ]
  },
  {
   "cell_type": "code",
   "execution_count": 5,
   "metadata": {},
   "outputs": [
    {
     "name": "stdout",
     "output_type": "stream",
     "text": [
      "[('[', 'NN'), (\"'\", \"''\"), ('V', 'NNP'), ('i', 'VBP'), ('c', 'VBP'), ('e', 'NN'), (\"'\", \"''\"), (',', ','), (' ', 'NNP'), (\"'\", 'POS'), ('P', 'NNP'), ('r', 'NN'), ('e', 'NN'), ('s', 'NN'), ('i', 'NN'), ('d', 'VBP'), ('e', 'NN'), ('n', 'JJ'), ('t', 'NN'), (\"'\", \"''\"), (',', ','), (' ', 'NNP'), (\"'\", 'POS'), ('J', 'NNP'), ('o', 'NN'), ('h', 'NN'), ('n', 'JJ'), ('s', 'NN'), ('o', 'IN'), ('n', 'NN'), (\"'\", \"''\"), (',', ','), (' ', 'NNP'), (\"'\", 'POS'), (',', ','), (\"'\", \"''\"), (',', ','), (' ', 'NNP'), (\"'\", 'POS'), ('M', 'NNP'), ('r', 'NN'), (\"'\", \"''\"), (',', ','), (' ', 'NNP'), (\"'\", 'POS'), ('.', '.')]\n",
      "\n",
      "\n",
      "[(\"'\", \"''\"), (',', ','), (' ', 'NNP'), (\"'\", 'POS'), ('S', 'NNP'), ('p', 'NN'), ('e', 'VBZ'), ('a', 'DT'), ('k', 'NN'), ('e', 'NN'), ('r', 'NN'), (\"'\", \"''\"), (',', ','), (' ', 'NNP'), (\"'\", 'POS'), (',', ','), (\"'\", \"''\"), (',', ','), (' ', 'NNP'), (\"'\", 'POS'), ('M', 'NNP'), ('r', 'NN'), (\"'\", \"''\"), (',', ','), (' ', 'NNP'), (\"'\", 'POS'), ('.', '.')]\n",
      "\n",
      "\n",
      "[(\"'\", \"''\"), (',', ','), (' ', 'NNP'), (\"'\", 'POS'), ('C', 'NNP'), ('h', 'NN'), ('i', 'NN'), ('e', 'VBP'), ('f', 'NN'), (\"'\", \"''\"), (',', ','), (' ', 'NNP'), (\"'\", 'POS'), ('J', 'NNP'), ('u', 'NN'), ('s', 'NN'), ('t', 'NN'), ('i', 'NN'), ('c', 'VBP'), ('e', 'NN'), (\"'\", \"''\"), (',', ','), (' ', 'NNP'), (\"'\", 'POS'), (',', ','), (\"'\", \"''\"), (',', ','), (' ', 'NNP'), (\"'\", 'POS'), ('P', 'NNP'), ('r', 'NN'), ('e', 'NN'), ('s', 'NN'), ('i', 'NN'), ('d', 'VBP'), ('e', 'NN'), ('n', 'JJ'), ('t', 'NN'), (\"'\", \"''\"), (',', ','), (' ', 'NNP'), (\"'\", 'POS'), ('E', 'NN'), ('i', 'NN'), ('s', 'VBP'), ('e', 'NN'), ('n', 'JJ'), ('h', 'NN'), ('o', 'NN'), ('w', 'NN'), ('e', 'NN'), ('r', 'NN'), (\"'\", \"''\"), (',', ','), (' ', 'NNP'), (\"'\", 'POS'), (',', ','), (\"'\", \"''\"), (',', ','), (' ', 'NNP'), (\"'\", 'POS'), ('V', 'NNP'), ('i', 'NN'), ('c', 'VBP'), ('e', 'NN'), (\"'\", \"''\"), (',', ','), (' ', 'NNP'), (\"'\", 'POS'), ('P', 'NNP'), ('r', 'NN'), ('e', 'NN'), ('s', 'NN'), ('i', 'NN'), ('d', 'VBP'), ('e', 'NN'), ('n', 'JJ'), ('t', 'NN'), (\"'\", \"''\"), (',', ','), (' ', 'NNP'), (\"'\", 'POS'), ('N', 'NNP'), ('i', 'NN'), ('x', 'VBP'), ('o', 'IN'), ('n', 'NNS'), (\"'\", 'POS'), (',', ','), (' ', 'NNP'), (\"'\", 'POS'), (',', ','), (\"'\", \"''\"), (',', ','), (' ', 'NNP'), (\"'\", 'POS'), ('P', 'NNP'), ('r', 'NN'), ('e', 'NN'), ('s', 'NN'), ('i', 'NN'), ('d', 'VBP'), ('e', 'NN'), ('n', 'JJ'), ('t', 'NN'), (\"'\", \"''\"), (',', ','), (' ', 'NNP'), (\"'\", 'POS'), ('T', 'NNP'), ('r', 'NN'), ('u', 'JJ'), ('m', 'VBZ'), ('a', 'DT'), ('n', 'NN'), (\"'\", \"''\"), (',', ','), (' ', 'NNP'), (\"'\", 'POS'), (',', ','), (\"'\", \"''\"), (',', ','), (' ', 'NNP'), (\"'\", 'POS'), ('r', 'NN'), ('e', 'NN'), ('v', 'NN'), ('e', 'NN'), ('r', 'NN'), ('e', 'NN'), ('n', 'JJ'), ('d', 'NN'), (\"'\", \"''\"), (',', ','), (' ', 'NNP'), (\"'\", 'POS'), ('c', 'NN'), ('l', 'NN'), ('e', 'NN'), ('r', 'NN'), ('g', 'NN'), ('y', 'NN'), (\"'\", \"''\"), (',', ','), (' ', 'NNP'), (\"'\", 'POS'), (',', ','), (\"'\", \"''\"), (',', ','), (' ', 'NNP'), (\"'\", 'POS'), ('f', 'NN'), ('e', 'NN'), ('l', 'NN'), ('l', 'NN'), ('o', 'IN'), ('w', 'NN'), (\"'\", \"''\"), (',', ','), (' ', 'NNP'), (\"'\", 'POS'), ('c', 'NN'), ('i', 'NN'), ('t', 'VBP'), ('i', 'JJ'), ('z', 'VBP'), ('e', 'JJ'), ('n', 'JJ'), ('s', 'NN'), (\"'\", \"''\"), (',', ','), (' ', 'NNP'), (\"'\", 'POS'), (',', ','), (\"'\", \"''\"), (',', ','), (' ', 'NNP'), (\"'\", 'POS'), ('w', 'NN'), ('e', 'NN'), (\"'\", \"''\"), (',', ','), (' ', 'NNP'), (\"'\", 'POS'), ('o', 'NN'), ('b', 'NN'), ('s', 'NN'), ('e', 'NN'), ('r', 'NN'), ('v', 'NN'), ('e', 'NN'), (\"'\", \"''\"), (',', ','), (' ', 'NNP'), (\"'\", 'POS'), ('t', 'NN'), ('o', 'NN'), ('d', 'VBZ'), ('a', 'DT'), ('y', 'NN'), (\"'\", \"''\"), (',', ','), (' ', 'NNP'), (\"'\", 'POS'), ('n', 'JJ'), ('o', 'NN'), ('t', 'NN'), (\"'\", \"''\"), (',', ','), (' ', 'NNP'), (\"'\", 'POS'), ('a', 'DT'), (\"'\", \"''\"), (',', ','), (' ', 'NNP'), (\"'\", 'POS'), ('v', 'NN'), ('i', 'NN'), ('c', 'VBP'), ('t', 'NN'), ('o', 'NN'), ('r', 'NN'), ('y', 'NN'), (\"'\", \"''\"), (',', ','), (' ', 'NNP'), (\"'\", 'POS'), ('o', 'NN'), ('f', 'NN'), (\"'\", \"''\"), (',', ','), (' ', 'NNP'), (\"'\", 'POS'), ('p', 'NN'), ('a', 'DT'), ('r', 'NN'), ('t', 'NN'), ('y', 'NN'), (\"'\", \"''\"), (',', ','), (' ', 'NNP'), (\"'\", 'POS'), (',', ','), (\"'\", \"''\"), (',', ','), (' ', 'NNP'), (\"'\", 'POS'), ('b', 'NN'), ('u', 'NN'), ('t', 'NN'), (\"'\", \"''\"), (',', ','), (' ', 'NNP'), (\"'\", 'POS'), ('a', 'DT'), (\"'\", \"''\"), (',', ','), (' ', 'NNP'), (\"'\", 'POS'), ('c', 'NN'), ('e', 'NN'), ('l', 'NN'), ('e', 'NN'), ('b', 'NN'), ('r', 'NN'), ('a', 'DT'), ('t', 'NN'), ('i', 'NN'), ('o', 'VBP'), ('n', 'NN'), (\"'\", \"''\"), (',', ','), (' ', 'NNP'), (\"'\", 'POS'), ('o', 'NN'), ('f', 'NN'), (\"'\", \"''\"), (',', ','), (' ', 'NNP'), (\"'\", 'POS'), ('f', 'NN'), ('r', 'NN'), ('e', 'NN'), ('e', 'NN'), ('d', 'NN'), ('o', 'IN'), ('m', 'NN'), (\"'\", \"''\"), (',', ','), (' ', 'NNP'), (\"'\", 'POS'), ('-', ':'), ('-', ':'), (\"'\", \"''\"), (',', ','), (' ', 'NNP'), (\"'\", 'POS'), ('s', 'NN'), ('y', 'NN'), ('m', 'NN'), ('b', 'NN'), ('o', 'IN'), ('l', 'NN'), ('i', 'NN'), ('z', 'VBP'), ('i', 'NN'), ('n', 'VBP'), ('g', 'NN'), (\"'\", \"''\"), (',', ','), (' ', 'NNP'), (\"'\", 'POS'), ('a', 'DT'), ('n', 'NN'), (\"'\", \"''\"), (',', ','), (' ', 'NNP'), (\"'\", 'POS'), ('e', 'NN'), ('n', 'IN'), ('d', 'NN'), (\"'\", \"''\"), (',', ','), (' ', 'NNP'), (\"'\", 'POS'), (',', ','), (\"'\", \"''\"), (',', ','), (' ', 'NNP'), (\"'\", 'POS'), ('a', 'DT'), ('s', 'NN'), (\"'\", \"''\"), (',', ','), (' ', 'NNP'), (\"'\", 'POS'), ('w', 'NN'), ('e', 'NN'), ('l', 'NN'), ('l', 'NN'), (\"'\", \"''\"), (',', ','), (' ', 'NNP'), (\"'\", 'POS'), ('a', 'DT'), ('s', 'NN'), (\"'\", \"''\"), (',', ','), (' ', 'NNP'), (\"'\", 'POS'), ('a', 'DT'), (\"'\", \"''\"), (',', ','), (' ', 'NNP'), (\"'\", 'POS'), ('b', 'NN'), ('e', 'NN'), ('g', 'NN'), ('i', 'NN'), ('n', 'VBP'), ('n', 'NN'), ('i', 'NN'), ('n', 'VBP'), ('g', 'NN'), (\"'\", \"''\"), (',', ','), (' ', 'NNP'), (\"'\", 'POS'), ('-', ':'), ('-', ':'), (\"'\", \"''\"), (',', ','), (' ', 'NNP'), (\"'\", 'POS'), ('s', 'NN'), ('i', 'NN'), ('g', 'VBP'), ('n', 'NN'), ('i', 'NN'), ('f', 'VBP'), ('y', 'NN'), ('i', 'NN'), ('n', 'VBP'), ('g', 'NN'), (\"'\", \"''\"), (',', ','), (' ', 'NNP'), (\"'\", 'POS'), ('r', 'NN'), ('e', 'NN'), ('n', 'JJ'), ('e', 'NN'), ('w', 'VBD'), ('a', 'DT'), ('l', 'NN'), (\"'\", \"''\"), (',', ','), (' ', 'NNP'), (\"'\", 'POS'), (',', ','), (\"'\", \"''\"), (',', ','), (' ', 'NNP'), (\"'\", 'POS'), ('a', 'DT'), ('s', 'NN'), (\"'\", \"''\"), (',', ','), (' ', 'NNP'), (\"'\", 'POS'), ('w', 'NN'), ('e', 'NN'), ('l', 'NN'), ('l', 'NN'), (\"'\", \"''\"), (',', ','), (' ', 'NNP'), (\"'\", 'POS'), ('a', 'DT'), ('s', 'NN'), (\"'\", \"''\"), (',', ','), (' ', 'NNP'), (\"'\", 'POS'), ('c', 'NN'), ('h', 'VBD'), ('a', 'DT'), ('n', 'JJ'), ('g', 'NN'), ('e', 'NN'), (\"'\", \"''\"), (',', ','), (' ', 'NNP'), (\"'\", 'POS'), ('.', '.')]\n",
      "\n",
      "\n",
      "[(\"'\", \"''\"), (',', ','), (' ', 'NNP'), (\"'\", 'POS'), ('F', 'NNP'), ('o', 'IN'), ('r', 'NN'), (\"'\", \"''\"), (',', ','), (' ', 'NNP'), (\"'\", 'POS'), ('I', 'PRP'), (\"'\", \"''\"), (',', ','), (' ', 'NNP'), (\"'\", 'POS'), ('h', 'NN'), ('a', 'DT'), ('v', 'NN'), ('e', 'NN'), (\"'\", \"''\"), (',', ','), (' ', 'NNP'), (\"'\", 'POS'), ('s', 'NN'), ('w', 'NN'), ('o', 'NN'), ('r', 'NN'), ('n', 'NN'), (\"'\", \"''\"), (',', ','), (' ', 'NNP'), (\"'\", 'POS'), ('I', 'PRP'), (\"'\", \"''\"), (',', ','), (' ', 'NNP'), (\"'\", 'POS'), ('b', 'NN'), ('e', 'NN'), ('f', 'NN'), ('o', 'NN'), ('r', 'NN'), ('e', 'NN'), (\"'\", \"''\"), (',', ','), (' ', 'NNP'), (\"'\", 'POS'), ('y', 'NN'), ('o', 'IN'), ('u', 'JJ'), (\"'\", \"''\"), (',', ','), (' ', 'NNP'), (\"'\", 'POS'), ('a', 'DT'), ('n', 'JJ'), ('d', 'NN'), (\"'\", \"''\"), (',', ','), (' ', 'NNP'), (\"'\", 'POS'), ('A', 'NNP'), ('l', 'NN'), ('m', 'NN'), ('i', 'NN'), ('g', 'VBP'), ('h', 'NN'), ('t', 'NN'), ('y', 'NN'), (\"'\", \"''\"), (',', ','), (' ', 'NNP'), (\"'\", 'POS'), ('G', 'NNP'), ('o', 'IN'), ('d', 'NN'), (\"'\", \"''\"), (',', ','), (' ', 'NNP'), (\"'\", 'POS'), ('t', 'NN'), ('h', 'NN'), ('e', 'NN'), (\"'\", \"''\"), (',', ','), (' ', 'NNP'), (\"'\", 'POS'), ('s', 'NN'), ('a', 'DT'), ('m', 'NN'), ('e', 'NN'), (\"'\", \"''\"), (',', ','), (' ', 'NNP'), (\"'\", 'POS'), ('s', 'NN'), ('o', 'IN'), ('l', 'NN'), ('e', 'NN'), ('m', 'NN'), ('n', 'NN'), (\"'\", \"''\"), (',', ','), (' ', 'NNP'), (\"'\", 'POS'), ('o', 'NN'), ('a', 'DT'), ('t', 'NN'), ('h', 'NN'), (\"'\", \"''\"), (',', ','), (' ', 'NNP'), (\"'\", 'POS'), ('o', 'NN'), ('u', 'JJ'), ('r', 'NN'), (\"'\", \"''\"), (',', ','), (' ', 'NNP'), (\"'\", 'POS'), ('f', 'NN'), ('o', 'IN'), ('r', 'NN'), ('e', 'NN'), ('b', 'NN'), ('e', 'NN'), ('a', 'DT'), ('r', 'NN'), ('s', 'NN'), (\"'\", \"''\"), (',', ','), (' ', 'NNP'), (\"'\", 'POS'), ('l', 'NN'), (\"'\", \"''\"), (',', ','), (' ', 'NNP'), (\"'\", 'POS'), ('p', 'NN'), ('r', 'NN'), ('e', 'NN'), ('s', 'VBD'), ('c', 'JJ'), ('r', 'NN'), ('i', 'NN'), ('b', 'VBP'), ('e', 'NN'), ('d', 'NN'), (\"'\", \"''\"), (',', ','), (' ', 'NNP'), (\"'\", 'POS'), ('n', 'JJ'), ('e', 'NN'), ('a', 'DT'), ('r', 'NN'), ('l', 'NN'), ('y', 'NN'), (\"'\", \"''\"), (',', ','), (' ', 'NNP'), (\"'\", 'POS'), ('a', 'DT'), (\"'\", \"''\"), (',', ','), (' ', 'NNP'), (\"'\", 'POS'), ('c', 'NN'), ('e', 'NN'), ('n', 'JJ'), ('t', 'NN'), ('u', 'JJ'), ('r', 'NN'), ('y', 'NN'), (\"'\", \"''\"), (',', ','), (' ', 'NNP'), (\"'\", 'POS'), ('a', 'DT'), ('n', 'JJ'), ('d', 'NN'), (\"'\", \"''\"), (',', ','), (' ', 'NNP'), (\"'\", 'POS'), ('t', 'NN'), ('h', 'NN'), ('r', 'NN'), ('e', 'NN'), ('e', 'NN'), (\"'\", \"''\"), (',', ','), (' ', 'NNP'), (\"'\", 'POS'), ('q', 'NN'), ('u', 'IN'), ('a', 'DT'), ('r', 'NN'), ('t', 'NN'), ('e', 'NN'), ('r', 'NN'), ('s', 'NN'), (\"'\", \"''\"), (',', ','), (' ', 'NNP'), (\"'\", 'POS'), ('a', 'DT'), ('g', 'NN'), ('o', 'NN'), (\"'\", \"''\"), (',', ','), (' ', 'NNP'), (\"'\", 'POS'), ('.', '.')]\n",
      "\n",
      "\n",
      "[(\"'\", \"''\"), (',', ','), (' ', 'NNP'), (\"'\", 'POS'), ('T', 'NNP'), ('h', 'NN'), ('e', 'NN'), (\"'\", \"''\"), (',', ','), (' ', 'NNP'), (\"'\", 'POS'), ('w', 'NN'), ('o', 'IN'), ('r', 'NN'), ('l', 'NN'), ('d', 'NN'), (\"'\", \"''\"), (',', ','), (' ', 'NNP'), (\"'\", 'POS'), ('i', 'NN'), ('s', 'NN'), (\"'\", \"''\"), (',', ','), (' ', 'NNP'), (\"'\", 'POS'), ('v', 'NN'), ('e', 'NN'), ('r', 'NN'), ('y', 'NN'), (\"'\", \"''\"), (',', ','), (' ', 'NNP'), (\"'\", 'POS'), ('d', 'NN'), ('i', 'NN'), ('f', 'VBP'), ('f', 'NN'), ('e', 'NN'), ('r', 'NN'), ('e', 'NN'), ('n', 'JJ'), ('t', 'NN'), (\"'\", \"''\"), (',', ','), (' ', 'NNP'), (\"'\", 'POS'), ('n', 'JJ'), ('o', 'NN'), ('w', 'NN'), (\"'\", \"''\"), (',', ','), (' ', 'NNP'), (\"'\", 'POS'), ('.', '.')]\n",
      "\n",
      "\n",
      "[(\"'\", \"''\"), (',', ','), (' ', 'NNP'), (\"'\", 'POS'), ('F', 'NNP'), ('o', 'IN'), ('r', 'NN'), (\"'\", \"''\"), (',', ','), (' ', 'NNP'), (\"'\", 'POS'), ('m', 'NN'), ('a', 'DT'), ('n', 'NN'), (\"'\", \"''\"), (',', ','), (' ', 'NNP'), (\"'\", 'POS'), ('h', 'NN'), ('o', 'IN'), ('l', 'NN'), ('d', 'NN'), ('s', 'NN'), (\"'\", \"''\"), (',', ','), (' ', 'NNP'), (\"'\", 'POS'), ('i', 'NN'), ('n', 'VBP'), (\"'\", \"''\"), (',', ','), (' ', 'NNP'), (\"'\", 'POS'), ('h', 'NN'), ('i', 'NN'), ('s', 'VBP'), (\"'\", 'POS'), (']', 'NN')]\n",
      "\n",
      "\n"
     ]
    }
   ],
   "source": [
    "from nltk import pos_tag\n",
    "sentences = sent_tokenize(txt1)\n",
    "for s in sentences:\n",
    "    tags = pos_tag(s)\n",
    "    print(tags)\n",
    "    print(\"\\n\")"
   ]
  },
  {
   "cell_type": "code",
   "execution_count": 6,
   "metadata": {},
   "outputs": [
    {
     "name": "stdout",
     "output_type": "stream",
     "text": [
      "______PorterStemmer_____\t______LancasterStemmer_____\n",
      "'vice\t\t\t\t\t'vice\n",
      "'presid\t\t\t\t\t'president\n",
      "'johnson\t\t\t\t\t'johnson\n",
      "'mr\t\t\t\t\t'mr\n",
      "'speaker\t\t\t\t\t'speaker\n",
      "'mr\t\t\t\t\t'mr\n",
      "'chief\t\t\t\t\t'chief\n",
      "'justic\t\t\t\t\t'justice\n",
      "'presid\t\t\t\t\t'president\n",
      "'eisenhow\t\t\t\t\t'eisenhower\n",
      "'vice\t\t\t\t\t'vice\n",
      "'presid\t\t\t\t\t'president\n",
      "'nixon\t\t\t\t\t'nixon\n",
      "'presid\t\t\t\t\t'president\n",
      "'truman\t\t\t\t\t'truman\n",
      "'reverend\t\t\t\t\t'reverend\n",
      "'clergi\t\t\t\t\t'clergy\n",
      "'fellow\t\t\t\t\t'fellow\n",
      "'citizen\t\t\t\t\t'citizens\n",
      "'we\t\t\t\t\t'we\n",
      "'observ\t\t\t\t\t'observe\n",
      "'today\t\t\t\t\t'today\n",
      "'not\t\t\t\t\t'not\n",
      "'victori\t\t\t\t\t'victory\n",
      "'of\t\t\t\t\t'of\n",
      "'parti\t\t\t\t\t'party\n",
      "'but\t\t\t\t\t'but\n",
      "'celebr\t\t\t\t\t'celebration\n",
      "'of\t\t\t\t\t'of\n",
      "'freedom\t\t\t\t\t'freedom\n",
      "--\t\t\t\t\t--\n",
      "'symbol\t\t\t\t\t'symbolizing\n",
      "'an\t\t\t\t\t'an\n",
      "'end\t\t\t\t\t'end\n",
      "'a\t\t\t\t\t'as\n",
      "'well\t\t\t\t\t'well\n",
      "'a\t\t\t\t\t'as\n",
      "'begin\t\t\t\t\t'beginning\n",
      "--\t\t\t\t\t--\n",
      "'signifi\t\t\t\t\t'signifying\n",
      "'renew\t\t\t\t\t'renewal\n",
      "'a\t\t\t\t\t'as\n",
      "'well\t\t\t\t\t'well\n",
      "'a\t\t\t\t\t'as\n",
      "'chang\t\t\t\t\t'change\n",
      "'for\t\t\t\t\t'for\n",
      "'have\t\t\t\t\t'have\n",
      "'sworn\t\t\t\t\t'sworn\n",
      "'befor\t\t\t\t\t'before\n",
      "'you\t\t\t\t\t'you\n",
      "'and\t\t\t\t\t'and\n",
      "'almighti\t\t\t\t\t'almighty\n",
      "'god\t\t\t\t\t'god\n",
      "'the\t\t\t\t\t'the\n",
      "'same\t\t\t\t\t'same\n",
      "'solemn\t\t\t\t\t'solemn\n",
      "'oath\t\t\t\t\t'oath\n",
      "'our\t\t\t\t\t'our\n",
      "'forebear\t\t\t\t\t'forebears\n",
      "'prescrib\t\t\t\t\t'prescribed\n",
      "'nearli\t\t\t\t\t'nearly\n",
      "'centuri\t\t\t\t\t'century\n",
      "'and\t\t\t\t\t'and\n",
      "'three\t\t\t\t\t'three\n",
      "'quarter\t\t\t\t\t'quarters\n",
      "'ago\t\t\t\t\t'ago\n",
      "'the\t\t\t\t\t'the\n",
      "'world\t\t\t\t\t'world\n",
      "'i\t\t\t\t\t'is\n",
      "'veri\t\t\t\t\t'very\n",
      "'differ\t\t\t\t\t'different\n",
      "'now\t\t\t\t\t'now\n",
      "'for\t\t\t\t\t'for\n",
      "'man\t\t\t\t\t'man\n",
      "'hold\t\t\t\t\t'holds\n",
      "'in\t\t\t\t\t'in\n",
      "'hi\t\t\t\t\t'his\n"
     ]
    }
   ],
   "source": [
    "from nltk.stem import PorterStemmer, LancasterStemmer\n",
    "stemmporter = PorterStemmer()\n",
    "stemmerLan = LancasterStemmer()\n",
    "words = word_tokenize(txt1)\n",
    "print(\"______PorterStemmer_____\\t______LancasterStemmer_____\")\n",
    "for w in words:\n",
    "    if(len(w)>1):    #for excluding symbols\n",
    "        print(stemmporter.stem(w),end=\"\\t\\t\\t\\t\\t\")\n",
    "        print(stemmerLan.stem(w))\n"
   ]
  }
 ],
 "metadata": {
  "kernelspec": {
   "display_name": "Python 3",
   "language": "python",
   "name": "python3"
  },
  "language_info": {
   "codemirror_mode": {
    "name": "ipython",
    "version": 3
   },
   "file_extension": ".py",
   "mimetype": "text/x-python",
   "name": "python",
   "nbconvert_exporter": "python",
   "pygments_lexer": "ipython3",
   "version": "3.7.3"
  }
 },
 "nbformat": 4,
 "nbformat_minor": 2
}
